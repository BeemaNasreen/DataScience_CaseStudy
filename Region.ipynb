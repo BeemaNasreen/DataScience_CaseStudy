{
 "cells": [
  {
   "cell_type": "code",
   "execution_count": 1,
   "id": "458bcdae",
   "metadata": {},
   "outputs": [],
   "source": [
    "import numpy as np\n",
    "import pandas as pd\n",
    "import matplotlib.pyplot as plt\n",
    "import seaborn as sns\n",
    "import warnings\n",
    "warnings.filterwarnings(\"ignore\")"
   ]
  },
  {
   "cell_type": "code",
   "execution_count": 4,
   "id": "93027c45",
   "metadata": {},
   "outputs": [
    {
     "data": {
      "text/html": [
       "<div>\n",
       "<style scoped>\n",
       "    .dataframe tbody tr th:only-of-type {\n",
       "        vertical-align: middle;\n",
       "    }\n",
       "\n",
       "    .dataframe tbody tr th {\n",
       "        vertical-align: top;\n",
       "    }\n",
       "\n",
       "    .dataframe thead th {\n",
       "        text-align: right;\n",
       "    }\n",
       "</style>\n",
       "<table border=\"1\" class=\"dataframe\">\n",
       "  <thead>\n",
       "    <tr style=\"text-align: right;\">\n",
       "      <th></th>\n",
       "      <th>country</th>\n",
       "      <th>Region</th>\n",
       "      <th>Surface area (km2)</th>\n",
       "      <th>Population in thousands (2017)</th>\n",
       "      <th>GDP per capita (current US$)</th>\n",
       "      <th>Agricultural production index</th>\n",
       "      <th>International trade: Imports (million US$)</th>\n",
       "    </tr>\n",
       "  </thead>\n",
       "  <tbody>\n",
       "    <tr>\n",
       "      <th>0</th>\n",
       "      <td>Afghanistan</td>\n",
       "      <td>SouthernAsia</td>\n",
       "      <td>652864</td>\n",
       "      <td>35530</td>\n",
       "      <td>623.2</td>\n",
       "      <td>125</td>\n",
       "      <td>3568</td>\n",
       "    </tr>\n",
       "    <tr>\n",
       "      <th>1</th>\n",
       "      <td>Albania</td>\n",
       "      <td>SouthernEurope</td>\n",
       "      <td>28748</td>\n",
       "      <td>2930</td>\n",
       "      <td>3984.2</td>\n",
       "      <td>134</td>\n",
       "      <td>4669</td>\n",
       "    </tr>\n",
       "    <tr>\n",
       "      <th>2</th>\n",
       "      <td>Algeria</td>\n",
       "      <td>NorthernAfrica</td>\n",
       "      <td>2381741</td>\n",
       "      <td>41318</td>\n",
       "      <td>4154.1</td>\n",
       "      <td>160</td>\n",
       "      <td>47091</td>\n",
       "    </tr>\n",
       "    <tr>\n",
       "      <th>3</th>\n",
       "      <td>Angola</td>\n",
       "      <td>MiddleAfrica</td>\n",
       "      <td>1246700</td>\n",
       "      <td>29784</td>\n",
       "      <td>4714.1</td>\n",
       "      <td>175</td>\n",
       "      <td>8790</td>\n",
       "    </tr>\n",
       "    <tr>\n",
       "      <th>4</th>\n",
       "      <td>Antigua and Barbuda</td>\n",
       "      <td>Caribbean</td>\n",
       "      <td>442</td>\n",
       "      <td>102</td>\n",
       "      <td>14764.5</td>\n",
       "      <td>88</td>\n",
       "      <td>491</td>\n",
       "    </tr>\n",
       "    <tr>\n",
       "      <th>...</th>\n",
       "      <td>...</td>\n",
       "      <td>...</td>\n",
       "      <td>...</td>\n",
       "      <td>...</td>\n",
       "      <td>...</td>\n",
       "      <td>...</td>\n",
       "      <td>...</td>\n",
       "    </tr>\n",
       "    <tr>\n",
       "      <th>191</th>\n",
       "      <td>Venezuela (Bolivarian Republic of)</td>\n",
       "      <td>SouthAmerica</td>\n",
       "      <td>912050</td>\n",
       "      <td>31977</td>\n",
       "      <td>11068.9</td>\n",
       "      <td>118</td>\n",
       "      <td>16324</td>\n",
       "    </tr>\n",
       "    <tr>\n",
       "      <th>192</th>\n",
       "      <td>Viet Nam</td>\n",
       "      <td>South-easternAsia</td>\n",
       "      <td>330967</td>\n",
       "      <td>95541</td>\n",
       "      <td>2067.9</td>\n",
       "      <td>136</td>\n",
       "      <td>174111</td>\n",
       "    </tr>\n",
       "    <tr>\n",
       "      <th>193</th>\n",
       "      <td>Yemen</td>\n",
       "      <td>WesternAsia</td>\n",
       "      <td>527968</td>\n",
       "      <td>28250</td>\n",
       "      <td>1106.4</td>\n",
       "      <td>136</td>\n",
       "      <td>6861</td>\n",
       "    </tr>\n",
       "    <tr>\n",
       "      <th>194</th>\n",
       "      <td>Zambia</td>\n",
       "      <td>EasternAfrica</td>\n",
       "      <td>752612</td>\n",
       "      <td>17094</td>\n",
       "      <td>1311.1</td>\n",
       "      <td>179</td>\n",
       "      <td>7442</td>\n",
       "    </tr>\n",
       "    <tr>\n",
       "      <th>195</th>\n",
       "      <td>Zimbabwe</td>\n",
       "      <td>EasternAfrica</td>\n",
       "      <td>390757</td>\n",
       "      <td>16530</td>\n",
       "      <td>890.4</td>\n",
       "      <td>99</td>\n",
       "      <td>5212</td>\n",
       "    </tr>\n",
       "  </tbody>\n",
       "</table>\n",
       "<p>196 rows × 7 columns</p>\n",
       "</div>"
      ],
      "text/plain": [
       "                                country             Region  \\\n",
       "0                           Afghanistan       SouthernAsia   \n",
       "1                               Albania     SouthernEurope   \n",
       "2                               Algeria     NorthernAfrica   \n",
       "3                                Angola       MiddleAfrica   \n",
       "4                   Antigua and Barbuda          Caribbean   \n",
       "..                                  ...                ...   \n",
       "191  Venezuela (Bolivarian Republic of)       SouthAmerica   \n",
       "192                            Viet Nam  South-easternAsia   \n",
       "193                               Yemen        WesternAsia   \n",
       "194                              Zambia      EasternAfrica   \n",
       "195                            Zimbabwe      EasternAfrica   \n",
       "\n",
       "     Surface area (km2)  Population in thousands (2017)  \\\n",
       "0                652864                           35530   \n",
       "1                 28748                            2930   \n",
       "2               2381741                           41318   \n",
       "3               1246700                           29784   \n",
       "4                   442                             102   \n",
       "..                  ...                             ...   \n",
       "191              912050                           31977   \n",
       "192              330967                           95541   \n",
       "193              527968                           28250   \n",
       "194              752612                           17094   \n",
       "195              390757                           16530   \n",
       "\n",
       "     GDP per capita (current US$)  Agricultural production index   \\\n",
       "0                           623.2                             125   \n",
       "1                          3984.2                             134   \n",
       "2                          4154.1                             160   \n",
       "3                          4714.1                             175   \n",
       "4                         14764.5                              88   \n",
       "..                            ...                             ...   \n",
       "191                       11068.9                             118   \n",
       "192                        2067.9                             136   \n",
       "193                        1106.4                             136   \n",
       "194                        1311.1                             179   \n",
       "195                         890.4                              99   \n",
       "\n",
       "     International trade: Imports (million US$)  \n",
       "0                                          3568  \n",
       "1                                          4669  \n",
       "2                                         47091  \n",
       "3                                          8790  \n",
       "4                                           491  \n",
       "..                                          ...  \n",
       "191                                       16324  \n",
       "192                                      174111  \n",
       "193                                        6861  \n",
       "194                                        7442  \n",
       "195                                        5212  \n",
       "\n",
       "[196 rows x 7 columns]"
      ]
     },
     "execution_count": 4,
     "metadata": {},
     "output_type": "execute_result"
    }
   ],
   "source": [
    "data = pd.read_csv(\"C:\\\\Users\\\\HASSAN\\\\Downloads\\\\Dataset_w6.xlsx - Data.csv\" )\n",
    "data"
   ]
  },
  {
   "cell_type": "markdown",
   "id": "54f789d7",
   "metadata": {},
   "source": [
    "# Find out how many countries are there in the dataset"
   ]
  },
  {
   "cell_type": "code",
   "execution_count": 5,
   "id": "504819d3",
   "metadata": {},
   "outputs": [
    {
     "name": "stdout",
     "output_type": "stream",
     "text": [
      "Total No. of countries in the dataset : 196\n"
     ]
    }
   ],
   "source": [
    "data1=data['country']\n",
    "print('Total No. of countries in the dataset :',data1.count())"
   ]
  },
  {
   "cell_type": "markdown",
   "id": "086d90ce",
   "metadata": {},
   "source": [
    "# Examine the data by using visualizations"
   ]
  },
  {
   "cell_type": "markdown",
   "id": "6694b9bd",
   "metadata": {},
   "source": [
    "# 1.Countries wrt Region"
   ]
  },
  {
   "cell_type": "code",
   "execution_count": 9,
   "id": "ef763c12",
   "metadata": {},
   "outputs": [
    {
     "data": {
      "image/png": "[encoded data removed]",
      "text/plain": [
       "<Figure size 720x720 with 1 Axes>"
      ]
     },
     "metadata": {
      "needs_background": "light"
     },
     "output_type": "display_data"
    }
   ],
   "source": [
    "plt.figure(figsize=(10,10))\n",
    "sns.countplot(x='Region',data=data)\n",
    "plt.title('Count of countries')\n",
    "plt.xticks(rotation=90)\n",
    "plt.show()"
   ]
  },
  {
   "cell_type": "markdown",
   "id": "317696e5",
   "metadata": {},
   "source": [
    "# On average which region has the highest:"
   ]
  },
  {
   "cell_type": "markdown",
   "id": "85065dd9",
   "metadata": {},
   "source": [
    "# a. GDP per capita"
   ]
  },
  {
   "cell_type": "code",
   "execution_count": 13,
   "id": "128a7d5b",
   "metadata": {},
   "outputs": [],
   "source": [
    "gdp=data[['Region','GDP per capita (current US$)']]"
   ]
  },
  {
   "cell_type": "code",
   "execution_count": 14,
   "id": "a981924b",
   "metadata": {},
   "outputs": [
    {
     "data": {
      "text/html": [
       "<div>\n",
       "<style scoped>\n",
       "    .dataframe tbody tr th:only-of-type {\n",
       "        vertical-align: middle;\n",
       "    }\n",
       "\n",
       "    .dataframe tbody tr th {\n",
       "        vertical-align: top;\n",
       "    }\n",
       "\n",
       "    .dataframe thead th {\n",
       "        text-align: right;\n",
       "    }\n",
       "</style>\n",
       "<table border=\"1\" class=\"dataframe\">\n",
       "  <thead>\n",
       "    <tr style=\"text-align: right;\">\n",
       "      <th></th>\n",
       "      <th>Region</th>\n",
       "      <th>GDP per capita (current US$)</th>\n",
       "    </tr>\n",
       "  </thead>\n",
       "  <tbody>\n",
       "    <tr>\n",
       "      <th>0</th>\n",
       "      <td>SouthernAsia</td>\n",
       "      <td>623.2</td>\n",
       "    </tr>\n",
       "    <tr>\n",
       "      <th>1</th>\n",
       "      <td>SouthernEurope</td>\n",
       "      <td>3984.2</td>\n",
       "    </tr>\n",
       "    <tr>\n",
       "      <th>2</th>\n",
       "      <td>NorthernAfrica</td>\n",
       "      <td>4154.1</td>\n",
       "    </tr>\n",
       "    <tr>\n",
       "      <th>3</th>\n",
       "      <td>MiddleAfrica</td>\n",
       "      <td>4714.1</td>\n",
       "    </tr>\n",
       "    <tr>\n",
       "      <th>4</th>\n",
       "      <td>Caribbean</td>\n",
       "      <td>14764.5</td>\n",
       "    </tr>\n",
       "    <tr>\n",
       "      <th>...</th>\n",
       "      <td>...</td>\n",
       "      <td>...</td>\n",
       "    </tr>\n",
       "    <tr>\n",
       "      <th>191</th>\n",
       "      <td>SouthAmerica</td>\n",
       "      <td>11068.9</td>\n",
       "    </tr>\n",
       "    <tr>\n",
       "      <th>192</th>\n",
       "      <td>South-easternAsia</td>\n",
       "      <td>2067.9</td>\n",
       "    </tr>\n",
       "    <tr>\n",
       "      <th>193</th>\n",
       "      <td>WesternAsia</td>\n",
       "      <td>1106.4</td>\n",
       "    </tr>\n",
       "    <tr>\n",
       "      <th>194</th>\n",
       "      <td>EasternAfrica</td>\n",
       "      <td>1311.1</td>\n",
       "    </tr>\n",
       "    <tr>\n",
       "      <th>195</th>\n",
       "      <td>EasternAfrica</td>\n",
       "      <td>890.4</td>\n",
       "    </tr>\n",
       "  </tbody>\n",
       "</table>\n",
       "<p>196 rows × 2 columns</p>\n",
       "</div>"
      ],
      "text/plain": [
       "                Region  GDP per capita (current US$)\n",
       "0         SouthernAsia                         623.2\n",
       "1       SouthernEurope                        3984.2\n",
       "2       NorthernAfrica                        4154.1\n",
       "3         MiddleAfrica                        4714.1\n",
       "4            Caribbean                       14764.5\n",
       "..                 ...                           ...\n",
       "191       SouthAmerica                       11068.9\n",
       "192  South-easternAsia                        2067.9\n",
       "193        WesternAsia                        1106.4\n",
       "194      EasternAfrica                        1311.1\n",
       "195      EasternAfrica                         890.4\n",
       "\n",
       "[196 rows x 2 columns]"
      ]
     },
     "execution_count": 14,
     "metadata": {},
     "output_type": "execute_result"
    }
   ],
   "source": [
    "gdp"
   ]
  },
  {
   "cell_type": "code",
   "execution_count": 23,
   "id": "377fb933",
   "metadata": {},
   "outputs": [
    {
     "data": {
      "text/plain": [
       "<AxesSubplot:xlabel='Region', ylabel='GDP per capita (current US$)'>"
      ]
     },
     "execution_count": 23,
     "metadata": {},
     "output_type": "execute_result"
    },
    {
     "data": {
      "image/png": "[encoded data removed]",
      "text/plain": [
       "<Figure size 432x288 with 1 Axes>"
      ]
     },
     "metadata": {
      "needs_background": "light"
     },
     "output_type": "display_data"
    }
   ],
   "source": [
    "plt.plot(figsize=(16,4))\n",
    "plt.xticks(rotation=90)\n",
    "sns.barplot(x=data['Region'],y=data['GDP per capita (current US$)'],data=data)"
   ]
  },
  {
   "cell_type": "markdown",
   "id": "edda9c4d",
   "metadata": {},
   "source": [
    "# b.International trade:Imports"
   ]
  },
  {
   "cell_type": "code",
   "execution_count": 38,
   "id": "ad82f44d",
   "metadata": {},
   "outputs": [],
   "source": [
    "trade=data.groupby('Region')['GDP per capita (current US$)'].agg(['mean']).round(2).sort_values('mean')"
   ]
  },
  {
   "cell_type": "code",
   "execution_count": 39,
   "id": "056bb6bf",
   "metadata": {},
   "outputs": [
    {
     "data": {
      "text/html": [
       "<div>\n",
       "<style scoped>\n",
       "    .dataframe tbody tr th:only-of-type {\n",
       "        vertical-align: middle;\n",
       "    }\n",
       "\n",
       "    .dataframe tbody tr th {\n",
       "        vertical-align: top;\n",
       "    }\n",
       "\n",
       "    .dataframe thead th {\n",
       "        text-align: right;\n",
       "    }\n",
       "</style>\n",
       "<table border=\"1\" class=\"dataframe\">\n",
       "  <thead>\n",
       "    <tr style=\"text-align: right;\">\n",
       "      <th></th>\n",
       "      <th>mean</th>\n",
       "    </tr>\n",
       "    <tr>\n",
       "      <th>Region</th>\n",
       "      <th></th>\n",
       "    </tr>\n",
       "  </thead>\n",
       "  <tbody>\n",
       "    <tr>\n",
       "      <th>WesternAfrica</th>\n",
       "      <td>1013.14</td>\n",
       "    </tr>\n",
       "    <tr>\n",
       "      <th>EasternAfrica</th>\n",
       "      <td>2088.85</td>\n",
       "    </tr>\n",
       "    <tr>\n",
       "      <th>SouthernAsia</th>\n",
       "      <td>2968.40</td>\n",
       "    </tr>\n",
       "    <tr>\n",
       "      <th>MiddleAfrica</th>\n",
       "      <td>3928.83</td>\n",
       "    </tr>\n",
       "    <tr>\n",
       "      <th>NorthernAfrica</th>\n",
       "      <td>3934.96</td>\n",
       "    </tr>\n",
       "    <tr>\n",
       "      <th>SouthernAfrica</th>\n",
       "      <td>4191.90</td>\n",
       "    </tr>\n",
       "    <tr>\n",
       "      <th>CentralAsia</th>\n",
       "      <td>4329.88</td>\n",
       "    </tr>\n",
       "    <tr>\n",
       "      <th>Micronesia</th>\n",
       "      <td>5008.30</td>\n",
       "    </tr>\n",
       "    <tr>\n",
       "      <th>CentralAmerica</th>\n",
       "      <td>6348.14</td>\n",
       "    </tr>\n",
       "    <tr>\n",
       "      <th>SouthAmerica</th>\n",
       "      <td>8499.78</td>\n",
       "    </tr>\n",
       "    <tr>\n",
       "      <th>Polynesia</th>\n",
       "      <td>8686.52</td>\n",
       "    </tr>\n",
       "    <tr>\n",
       "      <th>Melanesia</th>\n",
       "      <td>9261.96</td>\n",
       "    </tr>\n",
       "    <tr>\n",
       "      <th>EasternEurope</th>\n",
       "      <td>9292.49</td>\n",
       "    </tr>\n",
       "    <tr>\n",
       "      <th>South-easternAsia</th>\n",
       "      <td>10299.03</td>\n",
       "    </tr>\n",
       "    <tr>\n",
       "      <th>SouthernEurope</th>\n",
       "      <td>14462.74</td>\n",
       "    </tr>\n",
       "    <tr>\n",
       "      <th>Caribbean</th>\n",
       "      <td>15135.56</td>\n",
       "    </tr>\n",
       "    <tr>\n",
       "      <th>WesternAsia</th>\n",
       "      <td>17013.94</td>\n",
       "    </tr>\n",
       "    <tr>\n",
       "      <th>EasternAsia</th>\n",
       "      <td>27967.61</td>\n",
       "    </tr>\n",
       "    <tr>\n",
       "      <th>NorthernEurope</th>\n",
       "      <td>42098.22</td>\n",
       "    </tr>\n",
       "    <tr>\n",
       "      <th>Oceania</th>\n",
       "      <td>44823.25</td>\n",
       "    </tr>\n",
       "    <tr>\n",
       "      <th>WesternEurope</th>\n",
       "      <td>55387.13</td>\n",
       "    </tr>\n",
       "    <tr>\n",
       "      <th>NorthernAmerica</th>\n",
       "      <td>57659.00</td>\n",
       "    </tr>\n",
       "  </tbody>\n",
       "</table>\n",
       "</div>"
      ],
      "text/plain": [
       "                       mean\n",
       "Region                     \n",
       "WesternAfrica       1013.14\n",
       "EasternAfrica       2088.85\n",
       "SouthernAsia        2968.40\n",
       "MiddleAfrica        3928.83\n",
       "NorthernAfrica      3934.96\n",
       "SouthernAfrica      4191.90\n",
       "CentralAsia         4329.88\n",
       "Micronesia          5008.30\n",
       "CentralAmerica      6348.14\n",
       "SouthAmerica        8499.78\n",
       "Polynesia           8686.52\n",
       "Melanesia           9261.96\n",
       "EasternEurope       9292.49\n",
       "South-easternAsia  10299.03\n",
       "SouthernEurope     14462.74\n",
       "Caribbean          15135.56\n",
       "WesternAsia        17013.94\n",
       "EasternAsia        27967.61\n",
       "NorthernEurope     42098.22\n",
       "Oceania            44823.25\n",
       "WesternEurope      55387.13\n",
       "NorthernAmerica    57659.00"
      ]
     },
     "execution_count": 39,
     "metadata": {},
     "output_type": "execute_result"
    }
   ],
   "source": [
    "trade"
   ]
  },
  {
   "cell_type": "code",
   "execution_count": 35,
   "id": "53551661",
   "metadata": {},
   "outputs": [
    {
     "data": {
      "text/plain": [
       "[Text(0, 0.5, 'Mean of International Trade: Imports')]"
      ]
     },
     "execution_count": 35,
     "metadata": {},
     "output_type": "execute_result"
    },
    {
     "data": {
      "image/png": "[encoded data removed]",
      "text/plain": [
       "<Figure size 864x288 with 1 Axes>"
      ]
     },
     "metadata": {
      "needs_background": "light"
     },
     "output_type": "display_data"
    }
   ],
   "source": [
    " fig=plt.subplots(figsize=(12,4))\n",
    "plt.xticks(rotation=90)\n",
    "ax=sns.lineplot(data=trade,markers=True)\n",
    "ax.set(ylabel='Mean of International Trade: Imports')"
   ]
  },
  {
   "cell_type": "markdown",
   "id": "4f6b9535",
   "metadata": {},
   "source": [
    "# Region more consistent wrt GDP per capita"
   ]
  },
  {
   "cell_type": "code",
   "execution_count": 42,
   "id": "42b964d6",
   "metadata": {},
   "outputs": [
    {
     "name": "stdout",
     "output_type": "stream",
     "text": [
      "Region which has more consistent with respect to GDP per capita (current US$) is:\n"
     ]
    },
    {
     "data": {
      "text/plain": [
       "Region\n",
       "WesternAfrica    815.095399\n",
       "Name: GDP per capita (current US$), dtype: float64"
      ]
     },
     "execution_count": 42,
     "metadata": {},
     "output_type": "execute_result"
    }
   ],
   "source": [
    "const = data.groupby('Region')['GDP per capita (current US$)'].std() \n",
    "print(\"Region which has more consistent with respect to GDP per capita (current US$) is:\")\n",
    "const.nsmallest(1)\n"
   ]
  },
  {
   "cell_type": "code",
   "execution_count": null,
   "id": "f59662a2",
   "metadata": {},
   "outputs": [],
   "source": []
  }
 ],
 "metadata": {
  "kernelspec": {
   "display_name": "Python 3 (ipykernel)",
   "language": "python",
   "name": "python3"
  },
  "language_info": {
   "codemirror_mode": {
    "name": "ipython",
    "version": 3
   },
   "file_extension": ".py",
   "mimetype": "text/x-python",
   "name": "python",
   "nbconvert_exporter": "python",
   "pygments_lexer": "ipython3",
   "version": "3.9.7"
  }
 },
 "nbformat": 4,
 "nbformat_minor": 5
}
